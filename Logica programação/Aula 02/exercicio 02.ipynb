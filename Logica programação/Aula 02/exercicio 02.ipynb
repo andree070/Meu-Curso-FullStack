{
 "cells": [
  {
   "cell_type": "code",
   "execution_count": 13,
   "metadata": {},
   "outputs": [
    {
     "name": "stdout",
     "output_type": "stream",
     "text": [
      "andre\n"
     ]
    }
   ],
   "source": [
    "nome = input(\"Digite seu nome: \")\n",
    "print(nome)"
   ]
  },
  {
   "cell_type": "code",
   "execution_count": 15,
   "metadata": {},
   "outputs": [
    {
     "name": "stdout",
     "output_type": "stream",
     "text": [
      "Seu nome é andre e sua idade é 22\n"
     ]
    }
   ],
   "source": [
    "nome = input(\"Digite seu nome: \")\n",
    "idade = int(input(\"Digite sua idade: \"))\n",
    "frase = (f\"Seu nome é {nome} e sua idade é {idade}\")\n",
    "\n",
    "print(frase)\n"
   ]
  },
  {
   "cell_type": "code",
   "execution_count": 3,
   "metadata": {},
   "outputs": [
    {
     "name": "stdout",
     "output_type": "stream",
     "text": [
      "A soma dos numero é 80\n"
     ]
    }
   ],
   "source": [
    "primeiro_numero = int(input(\"Digite o primeiro numero: \"))\n",
    "\n",
    "segundo_numero = int(input(\"Digite o segundo numero: \"))\n",
    "\n",
    "soma = primeiro_numero + segundo_numero\n",
    "\n",
    "print(\"A soma dos numero é\", soma)"
   ]
  },
  {
   "cell_type": "code",
   "execution_count": 5,
   "metadata": {},
   "outputs": [
    {
     "name": "stdout",
     "output_type": "stream",
     "text": [
      "Sua idade atual é:  23 anos\n"
     ]
    }
   ],
   "source": [
    "ano_atual = 2024\n",
    "\n",
    "ano_nascimento = int(input(\"Digite o ano do seu nascimento: \"))\n",
    "\n",
    "idade_atua = ano_atual - ano_nascimento\n",
    "\n",
    "print(\"Sua idade atual é: \", idade_atua, \"anos\" )"
   ]
  },
  {
   "cell_type": "code",
   "execution_count": 2,
   "metadata": {},
   "outputs": [
    {
     "name": "stdout",
     "output_type": "stream",
     "text": [
      "a temperatura em fahrenheit é:  89.6 °f\n"
     ]
    }
   ],
   "source": [
    "temperatura_celsius = float(input(\"Digite a temperatura_celsius\"))\n",
    "temperatura_fahrenheit = (temperatura_celsius * 9/5) + 32\n",
    "print(\"a temperatura em fahrenheit é: \", temperatura_fahrenheit, \"°f\")"
   ]
  }
 ],
 "metadata": {
  "kernelspec": {
   "display_name": "Python 3",
   "language": "python",
   "name": "python3"
  },
  "language_info": {
   "codemirror_mode": {
    "name": "ipython",
    "version": 3
   },
   "file_extension": ".py",
   "mimetype": "text/x-python",
   "name": "python",
   "nbconvert_exporter": "python",
   "pygments_lexer": "ipython3",
   "version": "3.12.3"
  }
 },
 "nbformat": 4,
 "nbformat_minor": 2
}
